{
 "cells": [
  {
   "cell_type": "markdown",
   "id": "6d9beef3-45dd-4cbe-b9b4-50d48fc46d51",
   "metadata": {},
   "source": [
    "# Import Dependencies"
   ]
  },
  {
   "cell_type": "code",
   "execution_count": 4,
   "id": "7b171660-9062-43b2-bdef-99e0ea99a763",
   "metadata": {},
   "outputs": [
    {
     "ename": "ModuleNotFoundError",
     "evalue": "No module named 'swarmauri'",
     "output_type": "error",
     "traceback": [
      "\u001b[1;31m------------------------------------------------------------------------\u001b[0m",
      "\u001b[1;31mModuleNotFoundError\u001b[0m                    Traceback (most recent call last)",
      "Cell \u001b[1;32mIn[4], line 1\u001b[0m\n\u001b[1;32m----> 1\u001b[0m \u001b[38;5;28;01mfrom\u001b[39;00m \u001b[38;5;21;01mswarmauri\u001b[39;00m\u001b[38;5;21;01m.\u001b[39;00m\u001b[38;5;21;01mstandard\u001b[39;00m\u001b[38;5;21;01m.\u001b[39;00m\u001b[38;5;21;01mmetrics\u001b[39;00m\u001b[38;5;21;01m.\u001b[39;00m\u001b[38;5;21;01mconcrete\u001b[39;00m\u001b[38;5;21;01m.\u001b[39;00m\u001b[38;5;21;01mMeanMetric\u001b[39;00m \u001b[38;5;28;01mimport\u001b[39;00m MeanMetric \n",
      "\u001b[1;31mModuleNotFoundError\u001b[0m: No module named 'swarmauri'"
     ]
    }
   ],
   "source": [
    "from swarmauri.standard.metrics.concrete.MeanMetric import MeanMetric "
   ]
  },
  {
   "cell_type": "markdown",
   "id": "bfd85c25-3282-4fe9-af5e-92c6569cb7a2",
   "metadata": {},
   "source": [
    "# Instantiate Metric"
   ]
  },
  {
   "cell_type": "code",
   "execution_count": null,
   "id": "58966dac-88cd-4c46-98eb-15d5d3b6d663",
   "metadata": {},
   "outputs": [],
   "source": [
    "metric = MeanMetric(unit='average test score') "
   ]
  },
  {
   "cell_type": "markdown",
   "id": "9412dc95-a212-406e-9b9f-b84a7f155762",
   "metadata": {},
   "source": [
    "# Type and Resource of Metric"
   ]
  },
  {
   "cell_type": "code",
   "execution_count": null,
   "id": "fbdd81a6-89bb-44d4-abda-1ab20f51672b",
   "metadata": {},
   "outputs": [],
   "source": [
    "metric.type"
   ]
  },
  {
   "cell_type": "code",
   "execution_count": null,
   "id": "c42512e5-89f2-4e62-8b67-f468de730bb8",
   "metadata": {},
   "outputs": [],
   "source": [
    "metric.resource"
   ]
  },
  {
   "cell_type": "markdown",
   "id": "039da94b-c59b-4c9c-b874-e66939fc58fb",
   "metadata": {},
   "source": [
    "# Serialization"
   ]
  },
  {
   "cell_type": "code",
   "execution_count": null,
   "id": "4c29f8f0-5b26-4ea3-9625-84abbfdf5ab7",
   "metadata": {},
   "outputs": [],
   "source": [
    "metric.id == MeanMetric.model_validate_json(metric.model_dump_json()).id"
   ]
  },
  {
   "cell_type": "markdown",
   "id": "2c467ba2-45c5-4bab-83bb-0d5a361dc227",
   "metadata": {},
   "source": [
    "# Unit and Value of Metric"
   ]
  },
  {
   "cell_type": "code",
   "execution_count": null,
   "id": "0f145c1e-f7af-4da1-b436-7cf3a90a9911",
   "metadata": {},
   "outputs": [],
   "source": [
    "metric.add_measurement(10) \n",
    "metric.add_measurement(100)"
   ]
  },
  {
   "cell_type": "code",
   "execution_count": null,
   "id": "e327b464-18a8-465f-9fac-116f3c54796d",
   "metadata": {},
   "outputs": [],
   "source": [
    "metric()"
   ]
  },
  {
   "cell_type": "code",
   "execution_count": null,
   "id": "9c91f451-faeb-4d36-b60b-63a647169bcf",
   "metadata": {},
   "outputs": [],
   "source": [
    "metric.unit"
   ]
  }
 ],
 "metadata": {
  "kernelspec": {
   "display_name": "Python 3 (ipykernel)",
   "language": "python",
   "name": "python3"
  },
  "language_info": {
   "codemirror_mode": {
    "name": "ipython",
    "version": 3
   },
   "file_extension": ".py",
   "mimetype": "text/x-python",
   "name": "python",
   "nbconvert_exporter": "python",
   "pygments_lexer": "ipython3",
   "version": "3.10.5"
  }
 },
 "nbformat": 4,
 "nbformat_minor": 5
}
